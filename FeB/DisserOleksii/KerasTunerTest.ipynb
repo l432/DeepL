{
  "cells": [
    {
      "cell_type": "code",
      "source": [
        "!pip install keras_tuner -q"
      ],
      "metadata": {
        "colab": {
          "base_uri": "https://localhost:8080/"
        },
        "id": "crOv-ImqB_Rz",
        "outputId": "d2b97003-79d7-4e54-fe9a-b38016ca85ea"
      },
      "execution_count": 1,
      "outputs": [
        {
          "output_type": "stream",
          "name": "stdout",
          "text": [
            "\u001b[2K     \u001b[90m━━━━━━━━━━━━━━━━━━━━━━━━━━━━━━━━━━━━━━━\u001b[0m \u001b[32m169.6/169.6 KB\u001b[0m \u001b[31m4.1 MB/s\u001b[0m eta \u001b[36m0:00:00\u001b[0m\n",
            "\u001b[2K     \u001b[90m━━━━━━━━━━━━━━━━━━━━━━━━━━━━━━━━━━━━━━━━\u001b[0m \u001b[32m1.6/1.6 MB\u001b[0m \u001b[31m30.6 MB/s\u001b[0m eta \u001b[36m0:00:00\u001b[0m\n",
            "\u001b[?25h"
          ]
        }
      ]
    },
    {
      "cell_type": "code",
      "execution_count": 2,
      "metadata": {
        "id": "S26rSXdqBPJG"
      },
      "outputs": [],
      "source": [
        "import OlegFunction2023 as OF23\n",
        "import os\n",
        "\n",
        "from tensorflow.keras import models\n",
        "import keras_tuner as kt\n",
        "from keras_tuner import RandomSearch, Hyperband, BayesianOptimization\n",
        "\n",
        "# !pip install keras_tuner -q\n",
        "# from tensorflow.keras import models\n",
        "# import keras_tuner as kt\n",
        "# from keras_tuner import RandomSearch, Hyperband, BayesianOptimization\n",
        "\n",
        "# All_PV = True\n",
        "All_PV = False\n",
        "Max_trials = 30\n",
        "# Max_trials = 10\n",
        "Executions_per_trial=1\n",
        "RandomTuner = True\n",
        "Max_best_model = 5\n",
        "# Max_best_model = 3"
      ]
    },
    {
      "cell_type": "code",
      "execution_count": null,
      "metadata": {
        "id": "Sv7fSrn-BPJM"
      },
      "outputs": [],
      "source": [
        "# import tensorflow as tf0\n",
        "# sess = tf.compat.v1.Session(config=tf.compat.v1.ConfigProto(log_device_placement=True))\n",
        "\n",
        "# from tensorflow.python.client import device_lib\n",
        "# print(device_lib.list_local_devices())\n",
        "\n",
        "# print(\"Num GPUs Available: \", len(tf.config.experimental.list_physical_devices('GPU')))\n",
        "\n",
        "# import tensorflow as tf\n",
        "# config = tf.compat.v1.ConfigProto( device_count = {'GPU': 1 , 'CPU': 6} ) \n",
        "# sess = tf.compat.v1.Session(config=config) \n",
        "# from tensorflow.python.keras import backend as K\n",
        "# K.set_session(sess)"
      ]
    },
    {
      "cell_type": "code",
      "execution_count": 3,
      "metadata": {
        "colab": {
          "base_uri": "https://localhost:8080/"
        },
        "id": "4_wid5woBPJN",
        "outputId": "ef70f7e4-0380-4ed9-8cf9-24d632ca6919"
      },
      "outputs": [
        {
          "output_type": "stream",
          "name": "stderr",
          "text": [
            "/usr/local/lib/python3.8/dist-packages/sklearn/base.py:329: UserWarning: Trying to unpickle estimator StandardScaler from version 0.23.2 when using version 1.0.2. This might lead to breaking code or invalid results. Use at your own risk. For more info please refer to:\n",
            "https://scikit-learn.org/stable/modules/model_persistence.html#security-maintainability-limitations\n",
            "  warnings.warn(\n"
          ]
        }
      ],
      "source": [
        "Dnn = OF23.DNN_Parameters()\n",
        "\n",
        "if All_PV:\n",
        "    DataReader=OF23.BigPV_DataRead\n",
        "    Dnn.InputShape=6\n",
        "else:\n",
        "    DataReader=OF23.Isc_DataRead \n",
        "    Dnn.InputShape=4\n",
        "DT = OF23.ScalerLogDataTransform()"
      ]
    },
    {
      "cell_type": "code",
      "execution_count": 4,
      "metadata": {
        "id": "tbHYXr0KBPJO"
      },
      "outputs": [],
      "source": [
        "def DataTestRead(*FileName):\n",
        "    dataTest = DataReader(*FileName)\n",
        "    return DT.DataNormalize(dataTest)"
      ]
    },
    {
      "cell_type": "code",
      "execution_count": 5,
      "metadata": {
        "id": "J1ByEg4tBPJO"
      },
      "outputs": [],
      "source": [
        "data = DataReader(\"ResultAllAM15.dat\")\n",
        "# data = DataReader(\"ResultAll940.dat\")\n",
        "# data = DataReader(\"ResultAllAM15.dat\",\"B_varAM15.dat\",\"Fe_varAM15.dat\",\"All_varAM15.dat\")\n",
        "dataTrain = OF23.SplitInTrainAndTest(data,1)\n",
        "Xtrain,Ytrain = DT.DataNormalizeTrain(dataTrain)\n",
        "\n",
        "# XtestBvar,YtestBvar = DataTestRead(\"B_varAM15.dat\")\n",
        "# XtestFevar,YtestFevar = DataTestRead(\"Fe_varAM15.dat\")\n",
        "# XtestAllvar,YtestAllvar = DataTestRead(\"All_varAM15.dat\")\n",
        "# XtestMixt,YtestMixt = DataTestRead(\"B_varAM15.dat\",\"Fe_varAM15.dat\",\"All_varAM15.dat\")"
      ]
    },
    {
      "cell_type": "code",
      "execution_count": 6,
      "metadata": {
        "id": "S3Y9vpFXBPJP"
      },
      "outputs": [],
      "source": [
        "def ModelCreateAndCompileHP(hp):\n",
        "    Dnn.FirstHLNumber = hp.Choice('FirstHLNumber', values = [5, 10, 30, 50, 75, 100, 120, 150, 200])\n",
        "    Dnn.LayersNumber = hp.Choice('LayNumber', values = [4, 5 , 6, 8, 10, 12, 15])\n",
        "    Dnn.SetConfigurationTypeByNumber(hp.Choice('Configuration', values = [1, 2, 3, 4, 5]))\n",
        "# 1 - 'Pipe'\n",
        "# 2 - 'Trapezoi'\n",
        "# 3 - 'Triangle'\n",
        "# 4 - 'Butterfly'\n",
        "# 5 - 'Fir'\n",
        "    \n",
        "    \n",
        "    Dnn.BS = hp.Choice('BatchSize', values = [8, 16, 32, 64, 128])\n",
        "#     Dnn.Epoch = hp.Choice('Epotchs', values = [100, 300, 400, 600, 1000, 1500]) \n",
        "    Dnn.Epoch = hp.Choice('Epotchs', values = [100]) \n",
        "\n",
        "    Dnn.LRate = hp.Float(\"LR\", min_value=1e-5, max_value=1e-2, sampling=\"log\")\n",
        "    Dnn.SetOptimizerFunByNumber(hp.Choice('Optim', values = [0, 1, 2 , 3, 4, 5, 6, 7]))\n",
        "# 0 'Adam'\n",
        "# 1 'SGD'\n",
        "# 2 'RMSprop'\n",
        "# 3 'Adadelta'\n",
        "# 4 'Adagrad'\n",
        "# 5 'Adamax'\n",
        "# 6 'Nadam'\n",
        "# 7 'Ftrl'\n",
        "\n",
        "    Dnn.SetActivationFunByNumber(hp.Choice('Activat', values = [0, 1, 2 , 3, 4]))\n",
        "# 0 'relu'\n",
        "# 1 'sigmoid'\n",
        "# 2 'tanh'\n",
        "# 3 'selu'\n",
        "# 4 'elu'\n",
        "\n",
        "    Dnn.SetInitializerTypeByNumber(hp.Choice('Init', values = [0, 1, 2 , 3, 4, 5]))\n",
        "# 0 'XavierNormal'\n",
        "# 1 'XavierUniform'\n",
        "# 2 'HeNormal'\n",
        "# 3 'HeUniform'\n",
        "# 4 'RandomNormal'\n",
        "# 5 'RandomUniform'\n",
        "\n",
        "\n",
        "#     Dnn.RegularizerTypeByNumber(hp.Choice('Regul', values = [0, 1, 2]))\n",
        "    Dnn.RegularizerTypeByNumber(hp.Choice('Regul', values = [0]))\n",
        "# 0 'None'\n",
        "# 1 'L1'\n",
        "# 2 'L2'\n",
        "    if Dnn.RegularizersIndex != 0:\n",
        "        Dnn.RegRate = hp.Choice('RR', values = [1e-5, 1e-4, 1e-3, 1e-2])\n",
        "    \n",
        "    Dnn.DropoutNeeded = hp.Choice('DropNeed', values = [False])    \n",
        "#     Dnn.DropoutNeeded = hp.Boolean(\"DropNeed\")\n",
        "    if Dnn.DropoutNeeded:\n",
        "        Dnn.DropRate = hp.Choice('DropR', values = [0.2, 0.3, 0.4, 0.5])\n",
        "    \n",
        "    \n",
        "    return Dnn.ModelCreateAndCompile()"
      ]
    },
    {
      "cell_type": "code",
      "execution_count": 7,
      "metadata": {
        "id": "sIV2HnN5BPJQ"
      },
      "outputs": [],
      "source": [
        "if RandomTuner:\n",
        "    tuner = RandomSearch(\n",
        "        ModelCreateAndCompileHP, \n",
        "        objective = 'val_loss', \n",
        "        max_trials=Max_trials, \n",
        "        executions_per_trial=Executions_per_trial,\n",
        "        directory = 'test_directory',\n",
        "        project_name='Random',\n",
        "        overwrite=True\n",
        "        )\n",
        "else:\n",
        "    tuner = BayesianOptimization(\n",
        "        ModelCreateAndCompileHP, \n",
        "        objective = 'val_loss', \n",
        "        max_trials=Max_trials, \n",
        "        executions_per_trial=Executions_per_trial,\n",
        "        directory = 'test_directory',\n",
        "        project_name='Bayes',\n",
        "        overwrite=True,\n",
        "    )"
      ]
    },
    {
      "cell_type": "code",
      "execution_count": 8,
      "metadata": {
        "colab": {
          "base_uri": "https://localhost:8080/"
        },
        "id": "WfHhmcbrBPJS",
        "outputId": "573ceef8-d6a4-4793-f728-db07d5b4150c"
      },
      "outputs": [
        {
          "output_type": "stream",
          "name": "stdout",
          "text": [
            "Trial 30 Complete [00h 08m 51s]\n",
            "val_loss: 1.0072340965270996\n",
            "\n",
            "Best val_loss So Far: 0.03836469724774361\n",
            "Total elapsed time: 04h 33m 56s\n"
          ]
        }
      ],
      "source": [
        "tuner.search(Xtrain, \n",
        "         Ytrain, \n",
        "         batch_size = Dnn.BS, \n",
        "         epochs = Dnn.Epoch,           \n",
        "         validation_split = 0.2, \n",
        "         verbose = 1,\n",
        "         )"
      ]
    },
    {
      "cell_type": "code",
      "execution_count": 9,
      "metadata": {
        "id": "wc2_TMKvBPJT"
      },
      "outputs": [],
      "source": [
        "def BestParametersToDNNandPrint(best_hp,HeaderText):\n",
        "    print(HeaderText)\n",
        "    Dnn.FirstHLNumber=best_hp.get('FirstHLNumber')\n",
        "    Dnn.LayersNumber=best_hp.get('LayNumber')\n",
        "    Dnn.BS = best_hp.get('BatchSize')\n",
        "    Dnn.LRate = best_hp.get('LR')\n",
        "    Dnn.Epoch = best_hp.get('Epotchs')\n",
        "    Dnn.SetConfigurationTypeByNumber(best_hp.get('Configuration'))\n",
        "    Dnn.SetOptimizerFunByNumber(best_hp.get('Optim'))\n",
        "    Dnn.SetActivationFunByNumber(best_hp.get('Activat'))\n",
        "    Dnn.SetInitializerTypeByNumber(best_hp.get('Init'))\n",
        "    Dnn.RegularizerTypeByNumber(best_hp.get('Regul'))\n",
        "    if Dnn.RegularizersIndex != 0:\n",
        "        Dnn.RegRate = best_hp.get('RR')\n",
        "    Dnn.DropoutNeeded=best_hp.get('DropNeed')\n",
        "    if Dnn.DropoutNeeded:\n",
        "        Dnn.DropRate = best_hp.get('DropR') \n",
        "    print(Dnn)    "
      ]
    },
    {
      "cell_type": "code",
      "execution_count": 11,
      "metadata": {
        "colab": {
          "base_uri": "https://localhost:8080/"
        },
        "id": "sQ7uCHtDBPJU",
        "outputId": "423dadca-7df2-4fc6-fbd1-91c7557ac7ca"
      },
      "outputs": [
        {
          "output_type": "stream",
          "name": "stdout",
          "text": [
            "Model rating: 00\n",
            "#Input Nodes = 4\n",
            "ConfigurationType - Butterfly\n",
            "[75, 67, 59, 51, 43, 35, 35, 43, 51, 59, 67, 75]\n",
            "Batch Size = 8\n",
            "# Epochs = 100\n",
            "Learning Rate = 5.2712507092710046e-05\n",
            "Ortimizer = Adam\n",
            "Activation = elu\n",
            "Initializer = XavierNormal\n",
            "Regularizer = None\n",
            "Dropout is not used\n",
            "---------------------------------------------------------\n",
            "Model rating: 01\n",
            "#Input Nodes = 4\n",
            "ConfigurationType - Triangle\n",
            "[10, 9, 8, 7, 6, 5, 4, 3, 2, 1]\n",
            "Batch Size = 16\n",
            "# Epochs = 100\n",
            "Learning Rate = 0.0032649444211699905\n",
            "Ortimizer = Adam\n",
            "Activation = elu\n",
            "Initializer = HeNormal\n",
            "Regularizer = None\n",
            "Dropout is not used\n",
            "---------------------------------------------------------\n",
            "Model rating: 02\n",
            "#Input Nodes = 4\n",
            "ConfigurationType - Fir\n",
            "[30, 27, 24, 21, 18, 15, 30, 27, 24, 21, 18, 15]\n",
            "Batch Size = 128\n",
            "# Epochs = 100\n",
            "Learning Rate = 0.002215807058277498\n",
            "Ortimizer = Nadam\n",
            "Activation = selu\n",
            "Initializer = RandomUniform\n",
            "Regularizer = None\n",
            "Dropout is not used\n",
            "---------------------------------------------------------\n",
            "Model rating: 03\n",
            "#Input Nodes = 4\n",
            "ConfigurationType - Triangle\n",
            "[200, 180, 160, 140, 120, 100, 80, 60, 40, 20]\n",
            "Batch Size = 8\n",
            "# Epochs = 100\n",
            "Learning Rate = 0.0004274730816217117\n",
            "Ortimizer = RMSprop\n",
            "Activation = selu\n",
            "Initializer = XavierUniform\n",
            "Regularizer = None\n",
            "Dropout is not used\n",
            "---------------------------------------------------------\n",
            "Model rating: 04\n",
            "#Input Nodes = 4\n",
            "ConfigurationType - Butterfly\n",
            "[100, 90, 80, 70, 60, 50, 50, 60, 70, 80, 90, 100]\n",
            "Batch Size = 8\n",
            "# Epochs = 100\n",
            "Learning Rate = 0.0003352888803050468\n",
            "Ortimizer = SGD\n",
            "Activation = selu\n",
            "Initializer = XavierUniform\n",
            "Regularizer = None\n",
            "Dropout is not used\n",
            "---------------------------------------------------------\n"
          ]
        }
      ],
      "source": [
        "#%%script false\n",
        "best_hyperparameters = tuner.get_best_hyperparameters(Max_best_model)\n",
        "for best_hyperparameter in best_hyperparameters:\n",
        "    BestParametersToDNNandPrint(best_hyperparameter,\n",
        "                                'Model rating: %02d' %(best_hyperparameters.index(best_hyperparameter)))\n",
        "    print('---------------------------------------------------------')"
      ]
    },
    {
      "cell_type": "code",
      "execution_count": 12,
      "metadata": {
        "colab": {
          "base_uri": "https://localhost:8080/"
        },
        "id": "L8GwgcD1BPJV",
        "outputId": "a4d3b551-45b1-4fdf-d4ee-b6accaed975f"
      },
      "outputs": [
        {
          "output_type": "stream",
          "name": "stdout",
          "text": [
            "Results summary\n",
            "Results in test_directory/Random\n",
            "Showing 5 best trials\n",
            "<keras_tuner.engine.objective.Objective object at 0x7f55d0d42790>\n",
            "Trial summary\n",
            "Hyperparameters:\n",
            "FirstHLNumber: 75\n",
            "LayNumber: 8\n",
            "Configuration: 4\n",
            "BatchSize: 8\n",
            "Epotchs: 100\n",
            "LR: 5.2712507092710046e-05\n",
            "Optim: 0\n",
            "Activat: 4\n",
            "Init: 0\n",
            "Regul: 0\n",
            "DropNeed: 0\n",
            "Score: 0.03836469724774361\n",
            "Trial summary\n",
            "Hyperparameters:\n",
            "FirstHLNumber: 10\n",
            "LayNumber: 15\n",
            "Configuration: 3\n",
            "BatchSize: 16\n",
            "Epotchs: 100\n",
            "LR: 0.0032649444211699905\n",
            "Optim: 0\n",
            "Activat: 4\n",
            "Init: 2\n",
            "Regul: 0\n",
            "DropNeed: 0\n",
            "Score: 0.04337747022509575\n",
            "Trial summary\n",
            "Hyperparameters:\n",
            "FirstHLNumber: 30\n",
            "LayNumber: 8\n",
            "Configuration: 5\n",
            "BatchSize: 128\n",
            "Epotchs: 100\n",
            "LR: 0.002215807058277498\n",
            "Optim: 6\n",
            "Activat: 3\n",
            "Init: 5\n",
            "Regul: 0\n",
            "DropNeed: 0\n",
            "Score: 0.04483447223901749\n",
            "Trial summary\n",
            "Hyperparameters:\n",
            "FirstHLNumber: 200\n",
            "LayNumber: 4\n",
            "Configuration: 3\n",
            "BatchSize: 8\n",
            "Epotchs: 100\n",
            "LR: 0.0004274730816217117\n",
            "Optim: 2\n",
            "Activat: 3\n",
            "Init: 1\n",
            "Regul: 0\n",
            "DropNeed: 0\n",
            "Score: 0.04647070914506912\n",
            "Trial summary\n",
            "Hyperparameters:\n",
            "FirstHLNumber: 100\n",
            "LayNumber: 4\n",
            "Configuration: 4\n",
            "BatchSize: 8\n",
            "Epotchs: 100\n",
            "LR: 0.0003352888803050468\n",
            "Optim: 1\n",
            "Activat: 3\n",
            "Init: 1\n",
            "Regul: 0\n",
            "DropNeed: 0\n",
            "Score: 0.047221191227436066\n"
          ]
        }
      ],
      "source": [
        "tuner.results_summary(Max_best_model)"
      ]
    },
    {
      "cell_type": "code",
      "execution_count": 13,
      "metadata": {
        "colab": {
          "base_uri": "https://localhost:8080/"
        },
        "id": "zLMLHc6HBPJV",
        "outputId": "8daa855b-b231-4013-867e-a14f1c380619"
      },
      "outputs": [
        {
          "output_type": "stream",
          "name": "stdout",
          "text": [
            "---------------BEST models --------------------------------------\n",
            "Model rating: 01\n",
            "#Input Nodes = 4\n",
            "ConfigurationType - Butterfly\n",
            "[75, 67, 59, 51, 43, 35, 35, 43, 51, 59, 67, 75]\n",
            "Batch Size = 8\n",
            "# Epochs = 100\n",
            "Learning Rate = 5.2712507092710046e-05\n",
            "Ortimizer = Adam\n",
            "Activation = elu\n",
            "Initializer = XavierNormal\n",
            "Regularizer = None\n",
            "Dropout is not used\n",
            "---------------------------------------------------------\n",
            "Model rating: 02\n",
            "#Input Nodes = 4\n",
            "ConfigurationType - Triangle\n",
            "[10, 9, 8, 7, 6, 5, 4, 3, 2, 1]\n",
            "Batch Size = 16\n",
            "# Epochs = 100\n",
            "Learning Rate = 0.0032649444211699905\n",
            "Ortimizer = Adam\n",
            "Activation = elu\n",
            "Initializer = HeNormal\n",
            "Regularizer = None\n",
            "Dropout is not used\n",
            "---------------------------------------------------------\n",
            "Model rating: 03\n",
            "#Input Nodes = 4\n",
            "ConfigurationType - Fir\n",
            "[30, 27, 24, 21, 18, 15, 30, 27, 24, 21, 18, 15]\n",
            "Batch Size = 128\n",
            "# Epochs = 100\n",
            "Learning Rate = 0.002215807058277498\n",
            "Ortimizer = Nadam\n",
            "Activation = selu\n",
            "Initializer = RandomUniform\n",
            "Regularizer = None\n",
            "Dropout is not used\n",
            "---------------------------------------------------------\n",
            "Model rating: 04\n",
            "#Input Nodes = 4\n",
            "ConfigurationType - Triangle\n",
            "[200, 180, 160, 140, 120, 100, 80, 60, 40, 20]\n",
            "Batch Size = 8\n",
            "# Epochs = 100\n",
            "Learning Rate = 0.0004274730816217117\n",
            "Ortimizer = RMSprop\n",
            "Activation = selu\n",
            "Initializer = XavierUniform\n",
            "Regularizer = None\n",
            "Dropout is not used\n",
            "---------------------------------------------------------\n",
            "Model rating: 05\n",
            "#Input Nodes = 4\n",
            "ConfigurationType - Butterfly\n",
            "[100, 90, 80, 70, 60, 50, 50, 60, 70, 80, 90, 100]\n",
            "Batch Size = 8\n",
            "# Epochs = 100\n",
            "Learning Rate = 0.0003352888803050468\n",
            "Ortimizer = SGD\n",
            "Activation = selu\n",
            "Initializer = XavierUniform\n",
            "Regularizer = None\n",
            "Dropout is not used\n",
            "---------------------------------------------------------\n",
            "---------------------------------------------------------\n",
            "---------------WORST models --------------------------------------\n",
            "Model rating: 26\n",
            "#Input Nodes = 4\n",
            "ConfigurationType - Triangle\n",
            "[10, 9, 8, 7, 6, 5, 4, 3, 2, 1]\n",
            "Batch Size = 32\n",
            "# Epochs = 100\n",
            "Learning Rate = 0.0008410363446801281\n",
            "Ortimizer = Ftrl\n",
            "Activation = tanh\n",
            "Initializer = HeUniform\n",
            "Regularizer = None\n",
            "Dropout is not used\n",
            "---------------------------------------------------------\n",
            "Model rating: 27\n",
            "#Input Nodes = 4\n",
            "ConfigurationType - Triangle\n",
            "[75, 67, 59, 51, 43, 35, 27, 19, 11, 3]\n",
            "Batch Size = 64\n",
            "# Epochs = 100\n",
            "Learning Rate = 0.00016843327340508186\n",
            "Ortimizer = Ftrl\n",
            "Activation = relu\n",
            "Initializer = XavierUniform\n",
            "Regularizer = None\n",
            "Dropout is not used\n",
            "---------------------------------------------------------\n",
            "Model rating: 28\n",
            "#Input Nodes = 4\n",
            "ConfigurationType - Fir\n",
            "[150, 135, 120, 105, 90, 75, 150, 135, 120, 105, 90, 75]\n",
            "Batch Size = 32\n",
            "# Epochs = 100\n",
            "Learning Rate = 0.0004388015659502231\n",
            "Ortimizer = Adadelta\n",
            "Activation = sigmoid\n",
            "Initializer = XavierUniform\n",
            "Regularizer = None\n",
            "Dropout is not used\n",
            "---------------------------------------------------------\n",
            "Model rating: 29\n",
            "#Input Nodes = 4\n",
            "ConfigurationType - Butterfly\n",
            "[150, 135, 120, 105, 90, 75, 75, 90, 105, 120, 135, 150]\n",
            "Batch Size = 32\n",
            "# Epochs = 100\n",
            "Learning Rate = 0.002601378014370297\n",
            "Ortimizer = Ftrl\n",
            "Activation = elu\n",
            "Initializer = XavierNormal\n",
            "Regularizer = None\n",
            "Dropout is not used\n",
            "---------------------------------------------------------\n",
            "Model rating: 30\n",
            "#Input Nodes = 4\n",
            "ConfigurationType - Trapezoi\n",
            "[10, 9, 8, 7, 6, 5]\n",
            "Batch Size = 32\n",
            "# Epochs = 100\n",
            "Learning Rate = 0.0006885232822146602\n",
            "Ortimizer = Adadelta\n",
            "Activation = selu\n",
            "Initializer = HeNormal\n",
            "Regularizer = None\n",
            "Dropout is not used\n",
            "---------------------------------------------------------\n"
          ]
        }
      ],
      "source": [
        "best_hyperparameters = tuner.get_best_hyperparameters(Max_trials)\n",
        "print('---------------BEST models --------------------------------------')\n",
        "for i in range(0, Max_best_model):\n",
        "    BestParametersToDNNandPrint(best_hyperparameters[i],\n",
        "                                'Model rating: %02d' %(i+1))\n",
        "    print('---------------------------------------------------------')\n",
        "print('---------------------------------------------------------') \n",
        "print('---------------WORST models --------------------------------------')\n",
        "for i in range(Max_trials-Max_best_model, Max_trials):\n",
        "    BestParametersToDNNandPrint(best_hyperparameters[i],\n",
        "                                'Model rating: %02d' %(i+1))\n",
        "    print('---------------------------------------------------------')"
      ]
    },
    {
      "cell_type": "code",
      "execution_count": null,
      "metadata": {
        "id": "G75VQo06BPJW"
      },
      "outputs": [],
      "source": [
        "# tuner.search_space_summary()\n",
        "# tuner.results_summary\n"
      ]
    },
    {
      "cell_type": "code",
      "execution_count": null,
      "metadata": {
        "id": "MMgJ3ds5BPJW"
      },
      "outputs": [],
      "source": [
        "# models = tuner.get_best_models(num_models = 2)\n",
        "# for model in models:\n",
        "#     model.summary()\n",
        "#     model.evaluate(XtestMixt,YtestMixt)"
      ]
    },
    {
      "cell_type": "code",
      "execution_count": null,
      "metadata": {
        "id": "NLSDuZ9XBPJX"
      },
      "outputs": [],
      "source": [
        "# tuner.oracle.get_best_trials(num_trials=3)[2].hyperparameters.values"
      ]
    },
    {
      "cell_type": "code",
      "execution_count": null,
      "metadata": {
        "id": "jjvvrRy9BPJX"
      },
      "outputs": [],
      "source": [
        "# Dnn.FirstHLNumber=25\n",
        "# Dnn.LayersNumber=10\n",
        "# Dnn.BS = 16\n",
        "# Dnn.LRate = 1e-5\n",
        "# Dnn.Epoch = 800\n",
        "# Dnn.RegRate = 1e-7\n",
        "# Dnn.DropRate = 0.25\n",
        "# Dnn.SetConfigurationTypeByNumber(5)\n",
        "# Dnn.SetOptimizerFunByNumber(3)\n",
        "# Dnn.SetActivationFunByNumber(3)\n",
        "# Dnn.SetInitializerTypeByNumber(2)\n",
        "# Dnn.RegularizerTypeByNumber(1)\n",
        "# Dnn.DropoutNeeded=True\n",
        "# print(Dnn)"
      ]
    }
  ],
  "metadata": {
    "kernelspec": {
      "display_name": "Python 3",
      "language": "python",
      "name": "python3"
    },
    "language_info": {
      "codemirror_mode": {
        "name": "ipython",
        "version": 3
      },
      "file_extension": ".py",
      "mimetype": "text/x-python",
      "name": "python",
      "nbconvert_exporter": "python",
      "pygments_lexer": "ipython3",
      "version": "3.6.12"
    },
    "colab": {
      "provenance": []
    }
  },
  "nbformat": 4,
  "nbformat_minor": 0
}