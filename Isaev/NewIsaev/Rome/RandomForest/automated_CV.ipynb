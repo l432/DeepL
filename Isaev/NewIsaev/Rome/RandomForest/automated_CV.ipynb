{
  "nbformat": 4,
  "nbformat_minor": 0,
  "metadata": {
    "colab": {
      "provenance": []
    },
    "kernelspec": {
      "name": "python3",
      "display_name": "Python 3"
    },
    "language_info": {
      "name": "python"
    }
  },
  "cells": [
    {
      "cell_type": "code",
      "execution_count": 16,
      "metadata": {
        "id": "yRv6YSITLc1D"
      },
      "outputs": [],
      "source": [
        "!pip install tensorflow_decision_forests -U -qq\n",
        "!pip install wurlitzer -U -qq"
      ]
    },
    {
      "cell_type": "code",
      "source": [
        "import tensorflow_decision_forests as tfdf\n",
        "import matplotlib.pyplot as plt\n",
        "import pandas as pd\n",
        "import tensorflow as tf\n",
        "import numpy as np\n",
        "from sklearn.model_selection import train_test_split\n",
        "from sklearn.metrics import mean_squared_error"
      ],
      "metadata": {
        "id": "aKheIX9mLgwQ"
      },
      "execution_count": 81,
      "outputs": []
    },
    {
      "cell_type": "code",
      "source": [
        "model = tfdf.keras.RandomForestModel(task=tfdf.keras.Task.REGRESSION)\n",
        "\n",
        "data = pd.read_csv(\"/content/result.csv\", delimiter=';', encoding='utf-8')\n",
        "\n",
        "train_df, test_df = train_test_split(data, test_size=0.3, random_state=25)\n",
        "\n",
        "train_ds = tfdf.keras.pd_dataframe_to_tf_dataset(train_df, label=\"N_Fe\", task=model.task)\n",
        "test_ds = tfdf.keras.pd_dataframe_to_tf_dataset(test_df, label=\"N_Fe\", task=model.task)"
      ],
      "metadata": {
        "id": "WPtGdI8ILnJP",
        "colab": {
          "base_uri": "https://localhost:8080/"
        },
        "outputId": "2588d828-e595-4a3b-fd5e-d53ff614cec2"
      },
      "execution_count": 82,
      "outputs": [
        {
          "output_type": "stream",
          "name": "stdout",
          "text": [
            "Use /tmp/tmprsdk1_oe as temporary training directory\n"
          ]
        }
      ]
    },
    {
      "cell_type": "code",
      "source": [
        "#@title Define \"set_cell_height\".\n",
        "\n",
        "from IPython.core.magic import register_line_magic\n",
        "from IPython.display import Javascript\n",
        "from IPython.display import display\n",
        "\n",
        "# Some of the model training logs can cover the full\n",
        "# screen if not compressed to a smaller viewport.\n",
        "# This magic allows setting a max height for a cell.\n",
        "@register_line_magic\n",
        "def set_cell_height(size):\n",
        "  display(\n",
        "      Javascript(\"google.colab.output.setIframeHeight(0, true, {maxHeight: \" +\n",
        "                 str(size) + \"})\"))"
      ],
      "metadata": {
        "id": "Ml9Z2IAUOr3y",
        "cellView": "form"
      },
      "execution_count": 61,
      "outputs": []
    },
    {
      "cell_type": "code",
      "source": [
        "model_config = {\n",
        "    \"task\": tfdf.keras.Task.REGRESSION,\n",
        "    \"num_trees\": 150,\n",
        "    \"max_depth\": 20,\n",
        "    \"min_examples\": 5,\n",
        "    \"num_candidate_attributes_ratio\": 0.6,\n",
        "}"
      ],
      "metadata": {
        "id": "JOTyu6CNPsJa"
      },
      "execution_count": 83,
      "outputs": []
    },
    {
      "cell_type": "code",
      "source": [
        "# Perform k-fold cross-validation\n",
        "k = 5  # Number of folds\n",
        "fold_size = len(train_df) // k\n",
        "\n",
        "mse_scores = []"
      ],
      "metadata": {
        "id": "_sNCFG1yVG7u"
      },
      "execution_count": 84,
      "outputs": []
    },
    {
      "cell_type": "code",
      "source": [
        "%%time\n",
        "%set_cell_height 300\n",
        "\n",
        "for fold in range(k):\n",
        "    start, end = fold * fold_size, (fold + 1) * fold_size\n",
        "\n",
        "    # Split data into train and validation sets\n",
        "    fold_train_df = pd.concat([train_df.iloc[:start], train_df.iloc[end:]])\n",
        "    fold_val_df = train_df.iloc[start:end]\n",
        "\n",
        "    fold_train_ds = tfdf.keras.pd_dataframe_to_tf_dataset(fold_train_df, label=\"N_Fe\", task=tfdf.keras.Task.REGRESSION)\n",
        "    fold_val_ds = tfdf.keras.pd_dataframe_to_tf_dataset(fold_val_df, label=\"N_Fe\", task=tfdf.keras.Task.REGRESSION)\n",
        "\n",
        "    # Create and train the model\n",
        "    model = tfdf.keras.RandomForestModel(**model_config)\n",
        "    model.compile([\"accuracy\"])\n",
        "    model.fit(fold_train_ds, verbose=0)\n",
        "\n",
        "    # Evaluate on the validation set\n",
        "    fold_predictions = model.predict(fold_val_ds).flatten()\n",
        "    fold_true_labels = np.concatenate([y.numpy() for x, y in fold_val_ds])\n",
        "    mse_score = mean_squared_error(fold_true_labels, fold_predictions)\n",
        "    mse_scores.append(mse_score)"
      ],
      "metadata": {
        "colab": {
          "base_uri": "https://localhost:8080/",
          "height": 225
        },
        "id": "PEUY9Bi5VSOt",
        "outputId": "e1569ed4-7674-4733-9ea0-27cff2ac2a8a"
      },
      "execution_count": 85,
      "outputs": [
        {
          "output_type": "display_data",
          "data": {
            "text/plain": [
              "<IPython.core.display.Javascript object>"
            ],
            "application/javascript": [
              "google.colab.output.setIframeHeight(0, true, {maxHeight: 300})"
            ]
          },
          "metadata": {}
        },
        {
          "output_type": "stream",
          "name": "stdout",
          "text": [
            "Use /tmp/tmpiebuhhuf as temporary training directory\n",
            "2/2 [==============================] - 0s 18ms/step\n",
            "Use /tmp/tmpomnq4j1f as temporary training directory\n",
            "2/2 [==============================] - 0s 17ms/step\n",
            "Use /tmp/tmp0ucrru8j as temporary training directory\n",
            "2/2 [==============================] - 0s 22ms/step\n",
            "Use /tmp/tmp5dafleen as temporary training directory\n",
            "2/2 [==============================] - 0s 17ms/step\n",
            "Use /tmp/tmpvfpz91zt as temporary training directory\n",
            "2/2 [==============================] - 0s 20ms/step\n",
            "CPU times: user 29.5 s, sys: 1.45 s, total: 31 s\n",
            "Wall time: 31.1 s\n"
          ]
        }
      ]
    },
    {
      "cell_type": "code",
      "source": [
        "# Display the results\n",
        "for fold, mse_score in enumerate(mse_scores):\n",
        "    print(f\"Fold {fold + 1} - Mean Squared Error: {mse_score:.4f}\")"
      ],
      "metadata": {
        "colab": {
          "base_uri": "https://localhost:8080/"
        },
        "id": "FiiW-CnOV39r",
        "outputId": "23b04098-f151-4018-dbfa-7cf492133825"
      },
      "execution_count": 86,
      "outputs": [
        {
          "output_type": "stream",
          "name": "stdout",
          "text": [
            "Fold 1 - Mean Squared Error: 0.0167\n",
            "Fold 2 - Mean Squared Error: 0.0208\n",
            "Fold 3 - Mean Squared Error: 0.0198\n",
            "Fold 4 - Mean Squared Error: 0.0290\n",
            "Fold 5 - Mean Squared Error: 0.0221\n"
          ]
        }
      ]
    },
    {
      "cell_type": "code",
      "source": [
        "mean_mse = np.mean(mse_scores)\n",
        "print(f\"Mean Squared Error across folds: {mean_mse:.4f}\")"
      ],
      "metadata": {
        "colab": {
          "base_uri": "https://localhost:8080/"
        },
        "id": "4QuNAIrPPiAc",
        "outputId": "3be98fd2-d666-46ee-8d1e-ed10f2405f02"
      },
      "execution_count": 87,
      "outputs": [
        {
          "output_type": "stream",
          "name": "stdout",
          "text": [
            "Mean Squared Error across folds: 0.0217\n"
          ]
        }
      ]
    }
  ]
}